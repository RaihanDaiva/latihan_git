{
 "cells": [
  {
   "cell_type": "code",
   "execution_count": null,
   "metadata": {},
   "outputs": [
    {
     "name": "stdout",
     "output_type": "stream",
     "text": [
      "Pasien ke-1\n",
      "Pasien ke-2\n",
      "Rata-rata Sistolik Pasien: 81.0\n",
      "Rata-rata Diastolik Pasien: 16.5\n",
      "Nama pasien yang mengalami hipertensirai\n"
     ]
    }
   ],
   "source": [
    "\n",
    "# 5. Tampilkan nama-nama pasien yang memiliki tekanan darah sistolik di atas 140 atau tekanan darah diastolik di atas 90, yang menandakan hipertensi.\n",
    "nama = []\n",
    "sistolik = []\n",
    "diastolik = []\n",
    "\n",
    "jpasien = int(input(\"Masukkan jumlah pasien yang akan didaftarkan: \"))\n",
    "\n",
    "for i in range (jpasien):\n",
    "    print(f\"Pasien ke-{i+1}\")\n",
    "    nama_pasien = input(\"Masukkan Nama Pasien: \")\n",
    "    nama.append(nama_pasien)\n",
    "    sistolik_pasien = int(input(\"Masukkan darah sistolik pasien: \"))\n",
    "    sistolik.append(sistolik_pasien)\n",
    "    diastolik_pasien = int(input(\"Masukkan darah diastolik pasien: \"))\n",
    "    diastolik.append(diastolik_pasien)\n",
    "    \n",
    "avg_s = sum(sistolik) / jpasien\n",
    "avg_d = sum(diastolik) / jpasien\n",
    "\n",
    "print(f\"Rata-rata Sistolik Pasien: {avg_s}\")\n",
    "print(f\"Rata-rata Diastolik Pasien: {avg_d}\")\n",
    "\n",
    "for i in range(jpasien):\n",
    "    if sistolik[i] > 140 or diastolik[i] > 90:\n",
    "        print(f\"Nama pasien yang mengalami hipertensi {nama[i]}\")\n"
   ]
  },
  {
   "cell_type": "code",
   "execution_count": null,
   "metadata": {},
   "outputs": [],
   "source": []
  }
 ],
 "metadata": {
  "kernelspec": {
   "display_name": "Python 3",
   "language": "python",
   "name": "python3"
  },
  "language_info": {
   "codemirror_mode": {
    "name": "ipython",
    "version": 3
   },
   "file_extension": ".py",
   "mimetype": "text/x-python",
   "name": "python",
   "nbconvert_exporter": "python",
   "pygments_lexer": "ipython3",
   "version": "3.12.0"
  }
 },
 "nbformat": 4,
 "nbformat_minor": 2
}
