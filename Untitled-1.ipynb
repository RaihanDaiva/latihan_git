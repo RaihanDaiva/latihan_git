{
 "cells": [
  {
   "cell_type": "code",
   "execution_count": 11,
   "metadata": {},
   "outputs": [
    {
     "name": "stdout",
     "output_type": "stream",
     "text": [
      "Nama: raihan \n",
      "Kelas: a \n",
      "Mata Kuliah: pemdas \n",
      "Usia: 19 \n",
      "Berat Badan: 50.5\n"
     ]
    }
   ],
   "source": [
    "nama = input(\"Nama: \")\n",
    "kelas = input(\"Kelas: \")\n",
    "mk = input(\"Mata Kuliah: \")\n",
    "usia = int(input(\"Usia: \"))\n",
    "bb = float(input(\"Berat Badan: \"))\n",
    "\n",
    "print(f\"Nama: {nama} \\nKelas: {kelas} \\nMata Kuliah: {mk} \\nUsia: {usia} \\nBerat Badan: {bb}\")"
   ]
  },
  {
   "cell_type": "code",
   "execution_count": 4,
   "metadata": {},
   "outputs": [
    {
     "name": "stdout",
     "output_type": "stream",
     "text": [
      "256\n"
     ]
    }
   ],
   "source": [
    "a = 128\n",
    "result=(a<<1)\n",
    "print(result)"
   ]
  },
  {
   "cell_type": "code",
   "execution_count": 10,
   "metadata": {},
   "outputs": [
    {
     "name": "stdout",
     "output_type": "stream",
     "text": [
      "nilai = F\n"
     ]
    }
   ],
   "source": [
    "nilai=int(input(\"Masukkan Nilai: \"))\n",
    "\n",
    "if (nilai>=80) & (nilai<=100):\n",
    "    print(\"nilai = A\")\n",
    "elif (nilai>=73) & (nilai<=80):\n",
    "    print(\"nilai = AB\")\n",
    "elif (nilai>=67) & (nilai<=73):\n",
    "    print(\"nilai = B\")\n",
    "elif (nilai>=55) & (nilai<=67):\n",
    "    print(\"nilai = BC\")\n",
    "elif (nilai>=40) & (nilai<=55):\n",
    "    print(\"nilai = C\")\n",
    "else:\n",
    "    print(\"nilai = F\")\n",
    "\n",
    "\n",
    "    "
   ]
  },
  {
   "cell_type": "code",
   "execution_count": null,
   "metadata": {},
   "outputs": [],
   "source": [
    "a = \"Anda Insomnia\"\n",
    "print(a)\n",
    "while True:\n",
    "    while True:\n",
    "        a = input(\"Apakah anda berolahraga? (y/n):  \")\n",
    "        if a == \"y\":\n",
    "            a = \"Membantu kualitas tidur\"\n",
    "            print(a)\n",
    "            break\n",
    "        else:\n",
    "            print(\"Tidak membantu kualitas tidur dan tetap insomnia. Apakah anda berolahraga? (y/n):  \")\n",
    "            break\n",
    "    while True:\n",
    "        a = input(\"Apakah anda tidur di siang hari? (y/n):  \")\n",
    "        if a == \"n\":\n",
    "            a = \"Malamnya mengantuk\"\n",
    "            print(a)\n",
    "            break\n",
    "        else:\n",
    "            print(\"Malamnya tidak mengantuk dan anda tetap insomnia. Apakah anda berolahraga? (y/n):  \")\n",
    "            break\n"
   ]
  },
  {
   "cell_type": "code",
   "execution_count": null,
   "metadata": {},
   "outputs": [],
   "source": [
    "# Program untuk membantu mengatasi insomnia\n",
    "\n",
    "def main():\n",
    "    print(\"Anda Mengalami Insomnia\")\n",
    "    \n",
    "    while True:\n",
    "        olahraga = input(\"Apakah Anda berolahraga? (y/n): \").lower()\n",
    "        if olahraga == \"y\":\n",
    "            print(\"Membantu kualitas tidur.\")\n",
    "            \n",
    "            # Melanjutkan ke pertanyaan tidur siang\n",
    "            while True:\n",
    "                tidur_siang = input(\"Apakah Anda tidur di siang hari? (y/n): \").lower()\n",
    "                if tidur_siang == \"y\":\n",
    "                    print(\"Malamnya tidak mengantuk.\")\n",
    "                    print(\"Anda tetap insomnia.\")\n",
    "                    break  # Kembali ke pertanyaan awal tentang olahraga\n",
    "                \n",
    "                elif tidur_siang == \"n\":\n",
    "                    print(\"Malamnya mengantuk.\")\n",
    "                    \n",
    "                    # Lanjutkan ke pertanyaan tentang penggunaan HP\n",
    "                    while True:\n",
    "                        main_hp = input(\"Apakah Anda main HP sebelum tidur? (y/n): \").lower()\n",
    "                        if main_hp == \"y\":\n",
    "                            print(\"Tidak bisa tidur.\")\n",
    "                            break  # Kembali ke pertanyaan awal tentang olahraga\n",
    "                        elif main_hp == \"n\":\n",
    "                            print(\"Anda bisa tidur.\")\n",
    "                            print(\"Selamat, masalah insomnia teratasi.\")\n",
    "                            return  # Mengakhiri program\n",
    "                        else:\n",
    "                            print(\"Jawaban tidak valid, masukkan 'y' atau 'n'.\")\n",
    "                else:\n",
    "                    print(\"Jawaban tidak valid, masukkan 'y' atau 'n'.\")\n",
    "        \n",
    "        elif olahraga == \"n\":\n",
    "            print(\"Tidak membantu kualitas tidur.\")\n",
    "            print(\"Anda tetap insomnia.\")\n",
    "        else:\n",
    "            print(\"Jawaban tidak valid, masukkan 'y' atau 'n'.\")\n",
    "\n",
    "# Menjalankan program\n",
    "main()\n"
   ]
  },
  {
   "cell_type": "code",
   "execution_count": 17,
   "metadata": {},
   "outputs": [
    {
     "name": "stdout",
     "output_type": "stream",
     "text": [
      "Nama: raihan\n",
      "Suhu: 40.0\n",
      "Detak Jantung: 90\n",
      "\n",
      "Harus segera dirawat\n",
      "Detak jantung normal, perbanyak istirahat dan minum cairan\n"
     ]
    }
   ],
   "source": [
    "nama = input(\"Nama: \")\n",
    "suhuTubuh = float(input(\"Suhu Tubuh: \"))\n",
    "detakJantung = int(input(\"Detak Jantung: \"))\n",
    "\n",
    "print(f\"Nama: {nama}\\nSuhu: {suhuTubuh}\\nDetak Jantung: {detakJantung}\\n\")\n",
    "if (suhuTubuh > 39) and (suhuTubuh < 50): \n",
    "    print(\"Harus segera dirawat\")\n",
    "    if detakJantung > 100:\n",
    "        print(\"Detak jantung terlalu tinggi, butuh pemeriksaan lebih lanjut.\")\n",
    "    else:\n",
    "        print(\"Detak jantung normal, perbanyak istirahat dan minum cairan\")\n",
    "else:\n",
    "    print(\"Cukup istirahat saja\") \n",
    "    "
   ]
  },
  {
   "cell_type": "code",
   "execution_count": null,
   "metadata": {},
   "outputs": [],
   "source": [
    "def suhudetak():\n",
    "    for i in range(3):\n",
    "        print(\" \")\n",
    "        print(f\"--Input {i}--\")\n",
    "        nama = input(\"Nama: \")\n",
    "        suhuTubuh = float(input(\"Suhu Tubuh: \"))\n",
    "        detakJantung = int(input(\"Detak Jantung: \"))\n",
    "\n",
    "        print(f\"Nama: {nama}\\nSuhu: {suhuTubuh}\\nDetak Jantung: {detakJantung}\")\n",
    "        if (suhuTubuh > 39) and (suhuTubuh < 50): \n",
    "            print(\"Harus segera dirawat\")\n",
    "            if detakJantung > 100:\n",
    "                print(\"Detak jantung terlalu tinggi, butuh pemeriksaan lebih lanjut.\")\n",
    "            else:\n",
    "                print(\"Detak jantung normal, perbanyak istirahat dan minum cairan\")\n",
    "        else:\n",
    "            print(\"Cukup istirahat saja\") \n",
    "            \n",
    "print(\"1. Cek Suhu Tubuh dan Detak Jantung\")\n",
    "print(\"2. None\")\n",
    "print(\"3. None\")\n",
    "\n",
    "a = int(input(\"Pilih Salah Satu: \"))\n",
    "\n",
    "match a:\n",
    "    case 1:\n",
    "        suhudetak()\n",
    "    case 2:\n",
    "        print(\"Masih kosong\")\n",
    "    case 3:\n",
    "        print(\"Masih kosong\")\n",
    "    case _:\n",
    "        print(\"Input tak valid\")\n",
    "\n",
    "input()"
   ]
  },
  {
   "cell_type": "code",
   "execution_count": null,
   "metadata": {},
   "outputs": [],
   "source": [
    "# PERTEMUAN 5"
   ]
  },
  {
   "cell_type": "code",
   "execution_count": null,
   "metadata": {},
   "outputs": [],
   "source": [
    "i = 0\n",
    "total = 0\n",
    "while i < 10 and total < 50:\n",
    "    total += i\n",
    "    print(f\"i: {i}, Total: {total}\")\n",
    "    i += 1"
   ]
  },
  {
   "cell_type": "code",
   "execution_count": 9,
   "metadata": {},
   "outputs": [
    {
     "data": {
      "text/plain": [
       "['mangga', 'blueberry', 'apel', 'jeruk', 'durian']"
      ]
     },
     "execution_count": 9,
     "metadata": {},
     "output_type": "execute_result"
    }
   ],
   "source": [
    "#LIST\n",
    "buah = [\"mangga\", \"apel\", \"jeruk\", \"stroberi\"]\n",
    "buah.insert(0, \"mangga\")\n",
    "buah.append(\"durian\")\n",
    "a = buah[0], buah[3]\n",
    "buah[1] = \"blueberry\"\n",
    "buah.remove('stroberi')\n",
    "buah"
   ]
  },
  {
   "cell_type": "code",
   "execution_count": 11,
   "metadata": {},
   "outputs": [
    {
     "data": {
      "text/plain": [
       "{'apel', 'jeruk', 'nanas', 'stroberi'}"
      ]
     },
     "execution_count": 11,
     "metadata": {},
     "output_type": "execute_result"
    }
   ],
   "source": [
    "#SET\n",
    "buah = {\"mangga\", \"apel\", \"jeruk\", \"stroberi\"}\n",
    "buah.add(\"nanas\")\n",
    "buah.remove(\"mangga\")\n",
    "buah"
   ]
  },
  {
   "cell_type": "code",
   "execution_count": 12,
   "metadata": {},
   "outputs": [
    {
     "data": {
      "text/plain": [
       "('raihan', 'ragis')"
      ]
     },
     "execution_count": 12,
     "metadata": {},
     "output_type": "execute_result"
    }
   ],
   "source": [
    "#TUPLE \n",
    "a = (\"raihan\", \"ragis\", \"firman\")\n",
    "a[0], a[1]"
   ]
  },
  {
   "cell_type": "code",
   "execution_count": 17,
   "metadata": {},
   "outputs": [
    {
     "name": "stdout",
     "output_type": "stream",
     "text": [
      "index ke 1 namanya adalah ragis\n",
      "index ke 2 namanya adalah firman\n",
      "index ke 3 namanya adalah naufal\n"
     ]
    }
   ],
   "source": [
    "#FOR LIST\n",
    "a = [\"raihan\", \"ragis\", \"firman\", \"naufal\", \"yosafat\"]\n",
    "for i in range(1,4):\n",
    "    print(f\"index ke {i} namanya adalah {a[i]}\")"
   ]
  },
  {
   "cell_type": "code",
   "execution_count": 21,
   "metadata": {},
   "outputs": [
    {
     "name": "stdout",
     "output_type": "stream",
     "text": [
      "namanya adalah raihan\n",
      "namanya adalah yosafat\n",
      "namanya adalah firman\n",
      "namanya adalah ragis\n",
      "namanya adalah naufal\n"
     ]
    }
   ],
   "source": [
    "#FOR SET\n",
    "a = {\"raihan\", \"ragis\", \"firman\", \"naufal\", \"yosafat\"}\n",
    "for i in a:\n",
    "    print(f\"namanya adalah {i}\")"
   ]
  },
  {
   "cell_type": "code",
   "execution_count": 20,
   "metadata": {},
   "outputs": [
    {
     "name": "stdout",
     "output_type": "stream",
     "text": [
      "namanya adalah raihan\n",
      "namanya adalah ragis\n",
      "namanya adalah firman\n",
      "namanya adalah naufal\n",
      "namanya adalah yosafat\n"
     ]
    }
   ],
   "source": [
    "#FOR TUPLE\n",
    "a = (\"raihan\", \"ragis\", \"firman\", \"naufal\", \"yosafat\")\n",
    "for i in a:\n",
    "    print(f\"namanya adalah {i}\")"
   ]
  },
  {
   "cell_type": "code",
   "execution_count": 22,
   "metadata": {},
   "outputs": [
    {
     "name": "stdout",
     "output_type": "stream",
     "text": [
      "raihan\n",
      "ragis\n",
      "firman\n",
      "naufal\n",
      "yosafat\n"
     ]
    }
   ],
   "source": [
    "#WHILE LIST\n",
    "a = [\"raihan\", \"ragis\", \"firman\", \"naufal\", \"yosafat\"]\n",
    "index = 0\n",
    "while index < len(a):\n",
    "    print(a[index])\n",
    "    index += 1"
   ]
  },
  {
   "cell_type": "code",
   "execution_count": 23,
   "metadata": {},
   "outputs": [
    {
     "name": "stdout",
     "output_type": "stream",
     "text": [
      "raihan\n",
      "ragis\n",
      "firman\n",
      "naufal\n",
      "yosafat\n"
     ]
    }
   ],
   "source": [
    "#WHILE TUPLE\n",
    "a = (\"raihan\", \"ragis\", \"firman\", \"naufal\", \"yosafat\")\n",
    "index = 0\n",
    "while index < len(a):\n",
    "    print(a[index])\n",
    "    index += 1"
   ]
  },
  {
   "cell_type": "code",
   "execution_count": null,
   "metadata": {},
   "outputs": [],
   "source": [
    "nama = [1,              ]"
   ]
  },
  {
   "cell_type": "code",
   "execution_count": 6,
   "metadata": {},
   "outputs": [
    {
     "name": "stdout",
     "output_type": "stream",
     "text": [
      "perulangan ke: 0\n",
      "perulangan ke: 1\n",
      "perulangan ke: 2\n",
      "perulangan ke: 3\n",
      "perulangan ke: 4\n"
     ]
    },
    {
     "data": {
      "text/plain": [
       "625"
      ]
     },
     "execution_count": 6,
     "metadata": {},
     "output_type": "execute_result"
    }
   ],
   "source": [
    "def percabangan(a,b):\n",
    "    if a > b:\n",
    "        hitung = a ** b\n",
    "    else:\n",
    "        print(\"Tidak Terpenuhi\")\n",
    "    def perulangan(z):\n",
    "        i = 0\n",
    "        while i < z:\n",
    "            print(f\"perulangan ke: {i}\")\n",
    "            i += 1\n",
    "        return i\n",
    "    perulangan(5)\n",
    "    return hitung\n",
    "percabangan(5,4)"
   ]
  },
  {
   "cell_type": "code",
   "execution_count": 12,
   "metadata": {},
   "outputs": [
    {
     "name": "stdout",
     "output_type": "stream",
     "text": [
      "1 rai\n",
      "2 rao\n",
      "3 raw\n",
      "4 rf\n",
      "5 rapp\n"
     ]
    }
   ],
   "source": [
    "nama_pasien = []\n",
    "a = int(input(\"Masukkan jumlah pasien yang ingin diinput: \"))\n",
    "\n",
    "for i in range (a):\n",
    "    pasien = input(f\"masukkan pasien ke {i+1}:\")\n",
    "    nama_pasien.append(pasien)\n",
    "i=1   \n",
    "for pasien in nama_pasien:\n",
    "    print(i,pasien)\n",
    "    i+=1\n",
    "    "
   ]
  },
  {
   "cell_type": "code",
   "execution_count": 15,
   "metadata": {},
   "outputs": [
    {
     "name": "stdout",
     "output_type": "stream",
     "text": [
      "nama yang diambang batas ragis\n",
      "Rata-rata = 56.5\n"
     ]
    }
   ],
   "source": [
    "jpasien = int(input(\"Masukkan Jumlah Pasien: \"))\n",
    "nama = []\n",
    "suhu = []\n",
    "\n",
    "for i in range (jpasien):\n",
    "    nama_pasien = input(f\"Masukkan Nama Pasien: \")\n",
    "    nama.append(nama_pasien)\n",
    "    suhu_pasien = float(input(f\"Masukkan Suhu Pasien:\"))\n",
    "    suhu.append(suhu_pasien)\n",
    "    # print(nama,suhu)\n",
    "    \n",
    "total_suhu = 0\n",
    "for i in range (jpasien):\n",
    "    total_suhu = suhu[i] + total_suhu\n",
    "    if suhu[i] > 45:\n",
    "        print(f\"nama yang diambang batas: {nama[i]}\")\n",
    "\n",
    "avg = total_suhu / jpasien\n",
    "\n",
    "print(f\"Rata-rata = {avg}\")\n",
    "    \n",
    "    \n"
   ]
  },
  {
   "cell_type": "code",
   "execution_count": 10,
   "metadata": {},
   "outputs": [
    {
     "name": "stdout",
     "output_type": "stream",
     "text": [
      "[[1 2 3]\n",
      " [4 5 6]]\n",
      "4\n",
      "[1 2 3]\n",
      "[2 5]\n"
     ]
    }
   ],
   "source": [
    "import numpy as np\n",
    "\n",
    "array_2d = np.array([[1,2,3],[4,5,6]])\n",
    "print(array_2d)\n",
    "\n",
    "element = array_2d[1,0] #baris index ke 1(baris ke 2), kolom index ke 0(kolom ke 1)\n",
    "print(element)\n",
    "row = array_2d[0,:] #mengakses seluruh elemen pada baris index ke 0(baris pertama)\n",
    "print(row)\n",
    "column = array_2d[:,1] #mengakses seluruh elemen pada kolom index ke 1(kolom ke 2)\n",
    "print(column)"
   ]
  },
  {
   "cell_type": "code",
   "execution_count": null,
   "metadata": {},
   "outputs": [],
   "source": [
    "import matplotlib.pyplot as plt\n",
    "\n",
    "# Membuat data sederhana\n",
    "x = [1, 2, 3, 4]\n",
    "y = [1, 4, 9, 16]\n",
    "\n",
    "# Membuat grafik\n",
    "plt.plot(x, y)\n",
    "plt.title(\"Contoh Grafik\")\n",
    "plt.xlabel(\"X-Axis\")\n",
    "plt.ylabel(\"Y-Axis\")\n",
    "\n",
    "# Menampilkan grafik\n",
    "plt.show()\n"
   ]
  },
  {
   "cell_type": "code",
   "execution_count": 3,
   "metadata": {},
   "outputs": [
    {
     "name": "stdout",
     "output_type": "stream",
     "text": [
      "Nama: raihan\n",
      "Nama: ragis\n",
      "Nama: firman\n"
     ]
    }
   ],
   "source": [
    "a = [\"raihan\", \"ragis\", \"firman\", \"naufal\", \"yosafat\"]\n",
    "\n",
    "i = 0\n",
    "\n",
    "while i < 3:\n",
    "    print(f\"Nama: {a[i]}\")\n",
    "    i += 1"
   ]
  },
  {
   "cell_type": "code",
   "execution_count": 11,
   "metadata": {},
   "outputs": [
    {
     "name": "stdout",
     "output_type": "stream",
     "text": [
      "Hasil: 3\n"
     ]
    }
   ],
   "source": [
    "def hitung(a, b):\n",
    "    c = a + b\n",
    "    return c\n",
    "\n",
    "a = int(input(\"a: \"))\n",
    "b = int(input(\"b: \"))\n",
    "print(f\"Hasil: {hitung(a, b)}\")\n"
   ]
  },
  {
   "cell_type": "code",
   "execution_count": 19,
   "metadata": {},
   "outputs": [
    {
     "data": {
      "text/plain": [
       "['ragis', 'firman', 'naufal', 'yosafat']"
      ]
     },
     "execution_count": 19,
     "metadata": {},
     "output_type": "execute_result"
    }
   ],
   "source": [
    "a = [\"raihan\", \"ragis\", \"firman\", \"naufal\", \"yosafat\"]\n",
    "\n",
    "del a[0]\n",
    "a"
   ]
  },
  {
   "cell_type": "code",
   "execution_count": 18,
   "metadata": {},
   "outputs": [
    {
     "name": "stdout",
     "output_type": "stream",
     "text": [
      "Nama saya Ragis, usia saya 19, saya berasal dari kota bandung\n"
     ]
    }
   ],
   "source": [
    "my_dict = {'nama': 'Raihan', 'usia': '19', 'kota': 'bandung'}\n",
    "my_dict['nama'] = 'Ragis'\n",
    "nama = my_dict['nama']\n",
    "usia = my_dict['usia']\n",
    "kota = my_dict['kota']\n",
    "\n",
    "print(f\"Nama saya {nama}, usia saya {usia}, saya berasal dari kota {kota}\")"
   ]
  },
  {
   "cell_type": "code",
   "execution_count": 19,
   "metadata": {},
   "outputs": [
    {
     "data": {
      "text/plain": [
       "'Ragis'"
      ]
     },
     "execution_count": 19,
     "metadata": {},
     "output_type": "execute_result"
    }
   ],
   "source": [
    "# del my_dict['nama']\n",
    "# my_dict\n",
    "\n",
    "nama1 = my_dict.pop('nama')\n",
    "nama1"
   ]
  },
  {
   "cell_type": "code",
   "execution_count": null,
   "metadata": {},
   "outputs": [
    {
     "name": "stdout",
     "output_type": "stream",
     "text": [
      "nama Ragis\n",
      "usia 19\n",
      "kota bandung\n"
     ]
    }
   ],
   "source": [
    "my_dict = {'nama': 'Raihan', 'usia': '19', 'kota': 'bandung'}\n",
    "my_dict['nama'] = 'Ragis'\n",
    "\n",
    "for i in my_dict:\n",
    "    print(i, my_dict[i])"
   ]
  },
  {
   "cell_type": "code",
   "execution_count": 22,
   "metadata": {},
   "outputs": [
    {
     "name": "stdout",
     "output_type": "stream",
     "text": [
      "Ragis\n",
      "19\n",
      "bandung\n"
     ]
    }
   ],
   "source": [
    "my_dict = {'nama': 'Raihan', 'usia': '19', 'kota': 'bandung'}\n",
    "my_dict['nama'] = 'Ragis'\n",
    "\n",
    "for i in my_dict.values():\n",
    "    print(i)"
   ]
  },
  {
   "cell_type": "code",
   "execution_count": null,
   "metadata": {},
   "outputs": [
    {
     "name": "stdout",
     "output_type": "stream",
     "text": [
      "nama Ragis\n",
      "usia 19\n",
      "kota bandung\n"
     ]
    }
   ],
   "source": [
    "my_dict = {'nama': 'Raihan', 'usia': '19', 'kota': 'bandung'}\n",
    "my_dict['nama'] = 'Ragis'\n",
    "for i, j in my_dict.items():\n",
    "    print(i, j)"
   ]
  },
  {
   "cell_type": "code",
   "execution_count": 25,
   "metadata": {},
   "outputs": [
    {
     "name": "stdout",
     "output_type": "stream",
     "text": [
      "nama orang ke 1 adalah Raihan dengan usia 19\n",
      "nama orang ke 2 adalah Ragis dengan usia 20\n"
     ]
    }
   ],
   "source": [
    "my_dict = {\n",
    "    'org1': {'nama': 'Raihan', 'usia': '19'},\n",
    "    'org2': {'nama': 'Ragis', 'usia': '20'},\n",
    "}\n",
    "\n",
    "print(f\"nama orang ke 1 adalah {my_dict['org1']['nama']} dengan usia {my_dict['org1']['usia']}\")\n",
    "print(f\"nama orang ke 2 adalah {my_dict['org2']['nama']} dengan usia {my_dict['org2']['usia']}\")"
   ]
  },
  {
   "cell_type": "code",
   "execution_count": 26,
   "metadata": {},
   "outputs": [
    {
     "name": "stdout",
     "output_type": "stream",
     "text": [
      "\n",
      "ID Orang: org1\n",
      "nama: Raihan\n",
      "\n",
      "ID Orang: org2\n",
      "nama: Ragis\n"
     ]
    }
   ],
   "source": [
    "my_dict = {\n",
    "    'org1': {'nama': 'Raihan', 'usia': '19'},\n",
    "    'org2': {'nama': 'Ragis', 'usia': '20'},\n",
    "}\n",
    "\n",
    "for i, j in my_dict.items():\n",
    "    print(f\"\\nID Orang: {i}\")\n",
    "    print(f\"nama: {j['nama']}\")"
   ]
  },
  {
   "cell_type": "code",
   "execution_count": null,
   "metadata": {},
   "outputs": [],
   "source": []
  },
  {
   "cell_type": "code",
   "execution_count": null,
   "metadata": {},
   "outputs": [
    {
     "name": "stdout",
     "output_type": "stream",
     "text": [
      "{'lokasi1': {'nama_lokasi': 'Area Kota 1', 'jumlah_limbah': {'plastik': 500, 'organik': 300, 'logam': 200}}, 'lokasi2': {'nama_lokasi': 'Area Kota 2', 'jumlah_limbah': {'plastik': 700, 'organik': 400, 'logam': 250}}, 'lokasi3': {'nama_lokasi': 'Area Kota 3', 'jumlah_limbah': {'plastik': 600, 'organik': 350, 'logam': 300}}}\n",
      "\n",
      "{'plastik': 700, 'organik': 400, 'logam': 250}\n",
      "\n",
      "Area Kota 3\n",
      "\n",
      "lokasi 1\n",
      "organik: 300\n",
      "logam: 200\n",
      "lokasi 2\n",
      "organik: 400\n",
      "logam: 250\n",
      "lokasi 3\n",
      "organik: 350\n",
      "logam: 300\n",
      "\n",
      "Lokasi tersebut dalam kondisi aman\n",
      "Lokasi tersebut dalam kondisi aman\n",
      "lokasi tersebut memerlukan penanganan khusus\n"
     ]
    }
   ],
   "source": [
    "data_limbah = {\n",
    "    'lokasi1': {\n",
    "        'nama_lokasi': 'Area Kota 1',\n",
    "        'jumlah_limbah': {\n",
    "            'plastik': 500,\n",
    "            'organik': 300,\n",
    "            'logam': 200\n",
    "        }\n",
    "    },\n",
    "    'lokasi2': {\n",
    "        'nama_lokasi': 'Area Kota 2',\n",
    "        'jumlah_limbah': {\n",
    "            'plastik': 700,\n",
    "            'organik': 400,\n",
    "            'logam': 250\n",
    "        }\n",
    "    },\n",
    "    'lokasi3': {\n",
    "        'nama_lokasi': 'Area Kota 3',\n",
    "        'jumlah_limbah': {\n",
    "            'plastik': 600,\n",
    "            'organik': 350,\n",
    "            'logam': 300\n",
    "        }\n",
    "    }\n",
    "}\n",
    "# no 1\n",
    "print(data_limbah)\n",
    "print()\n",
    "# no 2\n",
    "print(data_limbah['lokasi2']['jumlah_limbah'])\n",
    "print()\n",
    "# no 3\n",
    "print(data_limbah['lokasi3']['nama_lokasi'])\n",
    "print()\n",
    "# no 4\n",
    "lok1_organik = data_limbah['lokasi1']['jumlah_limbah']['organik']\n",
    "lok1_logam = data_limbah['lokasi1']['jumlah_limbah']['logam']\n",
    "print(\"lokasi 1\")\n",
    "print(f\"organik: {lok1_organik}\")\n",
    "print(f\"logam: {lok1_logam}\")\n",
    "lok2_organik = data_limbah['lokasi2']['jumlah_limbah']['organik']\n",
    "lok2_logam = data_limbah['lokasi2']['jumlah_limbah']['logam']\n",
    "print(\"lokasi 2\")\n",
    "print(f\"organik: {lok2_organik}\")\n",
    "print(f\"logam: {lok2_logam}\")\n",
    "lok3_organik = data_limbah['lokasi3']['jumlah_limbah']['organik']\n",
    "lok3_logam = data_limbah['lokasi3']['jumlah_limbah']['logam']\n",
    "print(\"lokasi 3\")\n",
    "print(f\"organik: {lok3_organik}\")\n",
    "print(f\"logam: {lok3_logam}\")\n",
    "print()\n",
    "# no 5\n",
    "\n",
    "for i in range(3):\n",
    "    if data_limbah[f'lokasi{i+1}']['jumlah_limbah']['organik'] > 400 or data_limbah[f'lokasi{i+1}']['jumlah_limbah']['logam'] > 250:\n",
    "        print(\"lokasi tersebut memerlukan penanganan khusus\")\n",
    "    else:\n",
    "        print(\"Lokasi tersebut dalam kondisi aman\")\n",
    "        \n",
    "print()\n",
    "\n"
   ]
  },
  {
   "cell_type": "code",
   "execution_count": null,
   "metadata": {},
   "outputs": [],
   "source": []
  },
  {
   "cell_type": "code",
   "execution_count": null,
   "metadata": {},
   "outputs": [],
   "source": [
    "import re\n",
    "\n",
    "def validasi_password(password):\n",
    "    # Panjang minimal 8 karakter\n",
    "    if len(password) < 8:\n",
    "        return \"Password terlalu pendek! Minimal 8 karakter.\"\n",
    "    \n",
    "    # Kombinasi karakter\n",
    "    pola = r'^(?=.*[A-Z])(?=.*[a-z])(?=.*\\d)(?=.*[@$!%*?&])[A-Za-z\\d@$!%*?&]{8,}$'\n",
    "    if not re.match(pola, password):\n",
    "        return (\"Password harus memiliki kombinasi huruf besar, huruf kecil, angka, dan simbol.\")\n",
    "    \n",
    "    return \"Password valid!\"\n",
    "\n",
    "# Contoh\n",
    "a = input(\"Masukkan Password: \")\n",
    "print(validasi_password(a))\n"
   ]
  },
  {
   "cell_type": "code",
   "execution_count": 7,
   "metadata": {},
   "outputs": [
    {
     "name": "stdout",
     "output_type": "stream",
     "text": [
      "17\n",
      "27\n",
      "22\n",
      "5\n",
      "6\n"
     ]
    }
   ],
   "source": [
    "led_pin = [17, 27, 22, 5, 6]\n",
    "\n",
    "for i in range (len(led_pin)):\n",
    "    print(led_pin[i])"
   ]
  },
  {
   "cell_type": "code",
   "execution_count": null,
   "metadata": {},
   "outputs": [],
   "source": [
    "import RPi.GPIO as GPIO\n",
    "import time\n",
    "\n",
    "led = [4, 5, 6, 7, 27, 26, 25, 24]\n",
    "button = 12\n",
    "\n",
    "def main():\n",
    "  GPIO.setwarnings(False)\n",
    "  GPIO.setmode(GPIO.BCM)      \n",
    "  GPIO.setup(led, GPIO.OUT)\n",
    "  GPIO.setup(button, GPIO.IN)  \n",
    " \n",
    "  while True:\n",
    "    if GPIO.input(button) == 0 :\n",
    "      for j in led:\n",
    "         GPIO.output(j, GPIO.HIGH)\n",
    "         time.sleep(0.5)\n",
    "         GPIO.output(j, GPIO.LOW)\n",
    "         time.sleep(0.1)\n",
    "      else:\n",
    "         break\n",
    " \n",
    "if _name_ == '__main__':\n",
    " \n",
    "  try:\n",
    "    main()\n",
    "  except KeyboardInterrupt:\n",
    "    pass\n",
    "  finally:\n",
    "    GPIO.cleanup()"
   ]
  },
  {
   "cell_type": "code",
   "execution_count": null,
   "metadata": {},
   "outputs": [],
   "source": []
  }
 ],
 "metadata": {
  "kernelspec": {
   "display_name": "Python 3",
   "language": "python",
   "name": "python3"
  },
  "language_info": {
   "codemirror_mode": {
    "name": "ipython",
    "version": 3
   },
   "file_extension": ".py",
   "mimetype": "text/x-python",
   "name": "python",
   "nbconvert_exporter": "python",
   "pygments_lexer": "ipython3",
   "version": "3.12.0"
  }
 },
 "nbformat": 4,
 "nbformat_minor": 2
}
