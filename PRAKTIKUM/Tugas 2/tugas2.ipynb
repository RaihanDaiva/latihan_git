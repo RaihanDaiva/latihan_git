{
 "cells": [
  {
   "cell_type": "code",
   "execution_count": null,
   "metadata": {},
   "outputs": [
    {
     "name": "stdout",
     "output_type": "stream",
     "text": [
      "[1, 21, -2]\n",
      "===No 1===\n",
      "Angka Terendah: 21\n",
      "Angka Tertinggi: -2\n",
      "Rata-rata: 6.67\n",
      "===No 2===\n",
      "Jumlah: 20\n",
      "Jumlah Bil Ganjil: 2\n",
      "Jumlah Bil Genap: 1\n",
      "===No 3===\n",
      "[21, 1, -2]\n",
      "===No 4===\n",
      "Ada angka negatif\n",
      "Tidak ada angka negatif\n"
     ]
    }
   ],
   "source": [
    "angka = [] #mendeklarasikan variabel sebagai list kosong \n",
    "a = 10   #mendeklarasaikan varibel a dengan nilainya 10\n",
    "for i in range(a):  #batas loop ini adalah sampai nilai dari varibel a\n",
    "    put = int(input(f\"Masukkan angka ke-{i+1}: \"))  #untuk input angka\n",
    "    angka.append(put)   #isi dari inputan tersebut akan dimasukkan kedalam list angka\n",
    "\n",
    "print(angka)    #untuk menampilkan isi dari list angka\n",
    "print(\"===No 1===\")    \n",
    "mn = min(angka) #mengisi variabel mn dengan nilai paling kecil dari angka yang ada di dalam list angka \n",
    "mx = max(angka) #mengisi variabel mx dengan nilai paling besar dari angka yang ada di dalam list angka \n",
    "avg = sum(angka) / a    #menghitung rata-rata dari semua angka yang ada di dalam list angka\n",
    "avg = round(avg, 2) #untuk membulatkan angka pada nilai variabel avg hingga 2 angka desimal\n",
    "print(f\"Angka Terendah: {mn}\")  #menampilkan angka terendah\n",
    "print(f\"Angka Tertinggi: {mx}\") #menampilkan angka tertinggi\n",
    "print(f\"Rata-rata: {avg}\")  #menampilkan rata-rata\n",
    "print(\"===No 2===\")\n",
    "jmlh = sum(angka)   #menjumlahkan semua isi angka yang ada di dalam list angka\n",
    "j_genap = 0 #mendeklarasikan variabel j_genap agar bernilai 0\n",
    "j_ganjil = 0    #mendeklarasikan variabel j_ganjil agar bernilai 0\n",
    "print(f\"Jumlah: {jmlh}\")    #menampilkan jumlah\n",
    "for i in (angka):   #batas loop ini adalah sampai maksimal index yang ada pada list angka\n",
    "    if i % 2 == 1:  #kita misalkan ini adalah loop pertama, maka nilai i pada loop pertama adalah angka dari index pertama pada list angka\n",
    "        j_ganjil += 1   #jadi jika nilai index pertama dibagi 2 itu hasil baginya menyisakan 1, maka variabel j_ganjil akan ditambahkan 1\n",
    "    else:   #kecuali jika hasil baginya menyisakan selain satu, maka variabel j_genap akan ditambahkan 1\n",
    "        j_genap += 1 \n",
    "print(f\"Jumlah Bil Ganjil: {j_ganjil}\") #menampilkan jumlah bilangan ganjil\n",
    "print(f\"Jumlah Bil Genap: {j_genap}\")   #menampilkan jumlah bilangan genap\n",
    "print(\"===No 3===\")\n",
    "angka.sort(reverse=True)    #untuk mengurutkan angka dari yang terbesar ke terkecil pada list  \n",
    "print(angka)    #menaampilkan urutan angka dari yang terbesar ke yang terkecil\n",
    "print(\"===No 4===\")\n",
    "for i in (angka):   #batas loop ini adalah sampai maksimal index yang ada pada list angka\n",
    "    if i < 0:   #pada loop ini akan mengecek semua angka yang ada pada list angka, jika pada list terdapat angka negatif. maka akan menampilkan \"ada angka negatif\"\n",
    "        print(\"Ada angka negatif\")  \n",
    "        break  #jika if terpenuhi maka break dijalankan, yang berarti loop akan diberhentikan walaupun loopnya belum selesai\n",
    "else:   #else disini adalah else untuk loop, else ini akan dijalankan jika dan hanya jika loop selesai tanpa diberhentikan menggunakan break\n",
    "    print(\"Tidak ada angka negatif\")    #lalu jika loop selesai tanpa di break, maka akan menampilkan output \"Tidak ada angka negatif\"\n",
    "    "
   ]
  },
  {
   "cell_type": "code",
   "execution_count": null,
   "metadata": {},
   "outputs": [
    {
     "name": "stdout",
     "output_type": "stream",
     "text": [
      "===Penerjemah B.Inggris===\n",
      "Kata tidak ditemukan!\n"
     ]
    }
   ],
   "source": [
    "translate = {   #mendeklarasikan variabel sebagai dictionary yang sudah diisi\n",
    "    \"you\":\"kamu\",   #value dari \"you\" adalah \"kamu\"\n",
    "    \"sorry\":\"maaf\", #value dari \"sorry\" adalah \"maaf\"\n",
    "    \"egg\":\"telur\",  #value dari \"egg\" adalah \"telur\"\n",
    "    \"bottle\":\"botol\",   #value dari \"bottle\" adalah \"botol\"\n",
    "    \"chair\":\"kursi\"     #value dari \"chair\" adalah \"kursi\"\n",
    "}\n",
    "put=input(\"Masukkan Kata: \")    #menginputkan kata yang ingin di terjemahkan\n",
    "print(\"===Penerjemah B.Inggris===\") \n",
    "if put in translate:    #jika input nya ada di dalam dictionary\n",
    "    print(f\"{put} -> \",translate[put])  #maka akan menampilkan terjemahannya yang berada di dalam dictionary sesuai kata yang diinputkannya\n",
    "else:   #jika inputannya tidak ada didalam dictionary\n",
    "    print(\"Kata tidak ditemukan!\")  #maka akan menampilkan output bahwa kata yang diinputkannya tidak ada di dalam dictionary"
   ]
  }
 ],
 "metadata": {
  "kernelspec": {
   "display_name": "Python 3",
   "language": "python",
   "name": "python3"
  },
  "language_info": {
   "codemirror_mode": {
    "name": "ipython",
    "version": 3
   },
   "file_extension": ".py",
   "mimetype": "text/x-python",
   "name": "python",
   "nbconvert_exporter": "python",
   "pygments_lexer": "ipython3",
   "version": "3.12.0"
  }
 },
 "nbformat": 4,
 "nbformat_minor": 2
}
