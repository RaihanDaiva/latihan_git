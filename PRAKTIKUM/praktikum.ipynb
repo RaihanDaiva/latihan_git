{
 "cells": [
  {
   "cell_type": "code",
   "execution_count": 6,
   "metadata": {},
   "outputs": [
    {
     "name": "stdout",
     "output_type": "stream",
     "text": [
      "Angka Tersebut Ganjil.\n"
     ]
    }
   ],
   "source": [
    "a = int(input(\"Masukkan Angka: \"))\n",
    "\n",
    "if a % 2 == 1:\n",
    "    print(\"Angka Tersebut Ganjil.\")\n",
    "else:\n",
    "    print(\"Angka Tersebut Genap.\")\n",
    "    "
   ]
  },
  {
   "cell_type": "code",
   "execution_count": 13,
   "metadata": {},
   "outputs": [
    {
     "name": "stdout",
     "output_type": "stream",
     "text": [
      "50.0\n"
     ]
    }
   ],
   "source": [
    "a = float(input(\"Masukkan Harga: \"))\n",
    "\n",
    "if a >= 100:\n",
    "    a = a * 0.5\n",
    "    print(a)"
   ]
  },
  {
   "cell_type": "code",
   "execution_count": 20,
   "metadata": {},
   "outputs": [
    {
     "name": "stdout",
     "output_type": "stream",
     "text": [
      "1. Barang A (Rp 200.000)\n",
      "2. Barang B (Rp 500.000)\n",
      "3. Barang C (Rp 1.000.000)\n"
     ]
    },
    {
     "ename": "TypeError",
     "evalue": "unsupported operand type(s) for *: 'type' and 'int'",
     "output_type": "error",
     "traceback": [
      "\u001b[1;31m---------------------------------------------------------------------------\u001b[0m",
      "\u001b[1;31mTypeError\u001b[0m                                 Traceback (most recent call last)",
      "Cell \u001b[1;32mIn[20], line 10\u001b[0m\n\u001b[0;32m      8\u001b[0m \u001b[38;5;28;01mif\u001b[39;00m a \u001b[38;5;241m==\u001b[39m \u001b[38;5;241m1\u001b[39m:\n\u001b[0;32m      9\u001b[0m     b \u001b[38;5;241m==\u001b[39m \u001b[38;5;241m200\u001b[39m\n\u001b[1;32m---> 10\u001b[0m     b \u001b[38;5;241m=\u001b[39m \u001b[43mb\u001b[49m\u001b[43m \u001b[49m\u001b[38;5;241;43m*\u001b[39;49m\u001b[43m \u001b[49m\u001b[43mh\u001b[49m\n\u001b[0;32m     11\u001b[0m     \u001b[38;5;28mprint\u001b[39m(b)\n\u001b[0;32m     12\u001b[0m \u001b[38;5;28;01melif\u001b[39;00m a \u001b[38;5;241m==\u001b[39m \u001b[38;5;241m2\u001b[39m:\n",
      "\u001b[1;31mTypeError\u001b[0m: unsupported operand type(s) for *: 'type' and 'int'"
     ]
    }
   ],
   "source": [
    "print(\"1. Barang A (Rp 200.000)\")\n",
    "print(\"2. Barang B (Rp 500.000)\")\n",
    "print(\"3. Barang C (Rp 1.000.000)\")\n",
    "\n",
    "a = int(input(\"Pilih salah satu: \"))\n",
    "h = int(input(\"Masukkan Jumlah: \"))\n",
    "b = int\n",
    "if a == 1:\n",
    "    b == 200\n",
    "    b = b * h\n",
    "    print(b)\n",
    "elif a == 2:\n",
    "    b == 500000\n",
    "    print(a * h)\n",
    "elif a == 3:\n",
    "    b == 1000000\n",
    "    print(a * h)\n",
    "\n",
    "    "
   ]
  },
  {
   "cell_type": "code",
   "execution_count": null,
   "metadata": {},
   "outputs": [
    {
     "name": "stdout",
     "output_type": "stream",
     "text": [
      "200000.2f\n"
     ]
    }
   ],
   "source": [
    "a = 200000\n",
    "print(f\"{a}.2f\")"
   ]
  },
  {
   "cell_type": "code",
   "execution_count": 17,
   "metadata": {},
   "outputs": [
    {
     "name": "stdout",
     "output_type": "stream",
     "text": [
      "['bandung', 'cianjur', 'cimahi', 'jakarta', 'majalengka']\n",
      "ABCDEFGHIJKLMNOPQRSTUVWXYZ\n"
     ]
    }
   ],
   "source": [
    "import string\n",
    "\n",
    "kota = [\"bandung\", \"cianjur\", \"majalengka\", \"cimahi\", \"jakarta\"]\n",
    "b = sorted(kota)\n",
    "print(b)\n",
    "\n",
    "terpanjang = string.ascii_uppercase\n",
    "print(terpanjang)"
   ]
  },
  {
   "cell_type": "code",
   "execution_count": 29,
   "metadata": {},
   "outputs": [
    {
     "name": "stdout",
     "output_type": "stream",
     "text": [
      "{'username': '', 'password': ''}\n",
      "<built-in method values of dict object at 0x0000026AFA998980>\n"
     ]
    }
   ],
   "source": [
    "login = {\"username\":\"\",\n",
    "            \"password\":\"\"\n",
    "            }\n",
    "register = {\"username\":\"\",\n",
    "            \"password\":\"\"\n",
    "            }\n",
    "\n",
    "a = int(input(\"Pilih: \"))\n",
    "match a:\n",
    "    case 1:\n",
    "        register[\"username\"] = input(\"Username:\")\n",
    "        register[\"password\"] = input(\"password:\")\n",
    "        # login[\"username\"].append(register.values())\n",
    "        \n",
    "        print(login)\n",
    "        print(register.values)\n",
    "    \n",
    "        "
   ]
  },
  {
   "cell_type": "code",
   "execution_count": 4,
   "metadata": {},
   "outputs": [
    {
     "name": "stdout",
     "output_type": "stream",
     "text": [
      "===No 1===\n",
      "Angkaa Terendah: 20\n",
      "Angkaa Tertinggi: 1\n",
      "Rata-rata: 7.666666666666667\n"
     ]
    }
   ],
   "source": [
    "angka = []\n",
    "a = 3\n",
    "for i in range(a):\n",
    "    put = int(input(f\"Masukkan angka ke-{i+1}: \"))\n",
    "    angka.append(put)\n",
    "\n",
    "print(\"===No 1===\")    \n",
    "mn = max(angka)\n",
    "mx = min(angka)\n",
    "avg = sum(angka) / a\n",
    "print(f\"Angkaa Terendah: {mn}\")\n",
    "print(f\"Angkaa Tertinggi: {mx}\")\n",
    "print(f\"Rata-rata: {avg}\")\n",
    "# print(angka)"
   ]
  },
  {
   "cell_type": "code",
   "execution_count": 2,
   "metadata": {},
   "outputs": [
    {
     "name": "stdout",
     "output_type": "stream",
     "text": [
      "3\n"
     ]
    }
   ],
   "source": [
    "def coba(a,b):\n",
    "    c = a + b\n",
    "    return c\n",
    "a = coba(1,2)\n",
    "print(a)"
   ]
  },
  {
   "cell_type": "code",
   "execution_count": 6,
   "metadata": {},
   "outputs": [
    {
     "name": "stdout",
     "output_type": "stream",
     "text": [
      "Total: 3\n"
     ]
    }
   ],
   "source": [
    "def tambah(a,b):\n",
    "    c = a + b\n",
    "    return c\n",
    "\n",
    "a = int(input(\"a: \"))\n",
    "b = int(input(\"b: \"))\n",
    "\n",
    "print(f\"Total: {tambah(a,b)}\")"
   ]
  },
  {
   "cell_type": "code",
   "execution_count": 29,
   "metadata": {},
   "outputs": [
    {
     "name": "stdout",
     "output_type": "stream",
     "text": [
      "invalid literal for int() with base 10: 'd'\n",
      "3\n"
     ]
    }
   ],
   "source": [
    "def tambah(a,b):\n",
    "    c = a + b\n",
    "    return c\n",
    "def kurang(a,b):\n",
    "    c = a - b\n",
    "    return c\n",
    "def bagi(a,b):\n",
    "    c = a / b\n",
    "    return c\n",
    "try:\n",
    "    put = int(input(\"Pilih: \"))\n",
    "except ValueError as e:\n",
    "    print(e)\n",
    "# finally:\n",
    "    \n",
    "    \n",
    "match put:\n",
    "    case 1:\n",
    "        a = int(input(\"a: \"))\n",
    "        b = int(input(\"b: \"))\n",
    "        jumlah = tambah(a,b)\n",
    "        print(jumlah) \n",
    "    case 2:\n",
    "        a = int(input(\"a: \"))\n",
    "        b = int(input(\"b: \"))\n",
    "        jumlah = kurang(a,b)\n",
    "        print(jumlah) \n",
    "    case 3:\n",
    "        a = int(input(\"a: \"))\n",
    "        b = int(input(\"b: \"))\n",
    "        kali = lambda a, b : a * b\n",
    "        print(kali(a,b))\n",
    "    case 4:\n",
    "        a = int(input(\"a: \"))\n",
    "        b = int(input(\"b: \"))\n",
    "        jumlah = bagi(a,b)\n",
    "        print(jumlah)         "
   ]
  }
 ],
 "metadata": {
  "kernelspec": {
   "display_name": "Python 3",
   "language": "python",
   "name": "python3"
  },
  "language_info": {
   "codemirror_mode": {
    "name": "ipython",
    "version": 3
   },
   "file_extension": ".py",
   "mimetype": "text/x-python",
   "name": "python",
   "nbconvert_exporter": "python",
   "pygments_lexer": "ipython3",
   "version": "3.12.0"
  }
 },
 "nbformat": 4,
 "nbformat_minor": 2
}
