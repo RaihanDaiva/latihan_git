{
 "cells": [
  {
   "cell_type": "code",
   "execution_count": 3,
   "metadata": {},
   "outputs": [
    {
     "name": "stdout",
     "output_type": "stream",
     "text": [
      "<built-in function round>\n"
     ]
    }
   ],
   "source": [
    "k = 310.9277777777778\n",
    "round(k, 2)\n",
    "print(round)"
   ]
  },
  {
   "cell_type": "code",
   "execution_count": 21,
   "metadata": {},
   "outputs": [
    {
     "name": "stdout",
     "output_type": "stream",
     "text": [
      "Rp 100,000\n",
      "Rp 50,000\n"
     ]
    }
   ],
   "source": [
    "uang = 100000\n",
    "format = f\"Rp {uang:,.0f}\"\n",
    "print(format)\n",
    "a = uang * 0.5\n",
    "print(f\"Rp {a:,.0f}\")"
   ]
  },
  {
   "cell_type": "code",
   "execution_count": 27,
   "metadata": {},
   "outputs": [
    {
     "data": {
      "text/plain": [
       "50.0"
      ]
     },
     "execution_count": 27,
     "metadata": {},
     "output_type": "execute_result"
    }
   ],
   "source": [
    "a = [100, 12, 14]\n",
    "put = a[0]\n",
    "put *= 0.5\n",
    "put"
   ]
  }
 ],
 "metadata": {
  "kernelspec": {
   "display_name": "Python 3",
   "language": "python",
   "name": "python3"
  },
  "language_info": {
   "codemirror_mode": {
    "name": "ipython",
    "version": 3
   },
   "file_extension": ".py",
   "mimetype": "text/x-python",
   "name": "python",
   "nbconvert_exporter": "python",
   "pygments_lexer": "ipython3",
   "version": "3.12.0"
  }
 },
 "nbformat": 4,
 "nbformat_minor": 2
}
