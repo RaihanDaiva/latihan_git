{
 "cells": [
  {
   "cell_type": "code",
   "execution_count": 2,
   "metadata": {},
   "outputs": [
    {
     "name": "stdout",
     "output_type": "stream",
     "text": [
      "1. Cek Suhu Tubuh dan Detak Jantung\n",
      "2. Cek Tekanan Darah dan Denyut Nadi\n",
      "3. None\n",
      "Tekanan Darah:\n",
      "Nama: raihan\n",
      "Tekanan Darah:\n",
      " -Sistolik: 120\n",
      " -Diastolik: 80\n",
      "Denyut Nadi: 100\n",
      "Anda berada dalam kategori prehipertensi\n",
      "Denyut nadi anda normal\n",
      "Tekanan Darah:\n",
      "Nama: rai\n",
      "Tekanan Darah:\n",
      " -Sistolik: 120\n",
      " -Diastolik: 1\n",
      "Denyut Nadi: 1\n",
      "Anda berada dalam kategori prehipertensi\n",
      "Periksalah apakah ada gejala lain yang mengiringi bradikardia\n",
      "Tekanan Darah:\n",
      "Nama: r\n",
      "Tekanan Darah:\n",
      " -Sistolik: 1\n",
      " -Diastolik: 1\n",
      "Denyut Nadi: 1\n",
      "Tekanan darah anda normal\n",
      "Periksalah apakah ada gejala lain yang mengiringi bradikardia\n"
     ]
    },
    {
     "data": {
      "text/plain": [
       "''"
      ]
     },
     "execution_count": 2,
     "metadata": {},
     "output_type": "execute_result"
    }
   ],
   "source": [
    "def suhudetak():\n",
    "    for i in range(3):\n",
    "        nama = input(\"Nama: \")\n",
    "        suhuTubuh = float(input(\"Suhu Tubuh: \"))\n",
    "        detakJantung = int(input(\"Detak Jantung: \"))\n",
    "\n",
    "        print(f\"Nama: {nama}\\nSuhu: {suhuTubuh}\\nDetak Jantung: {detakJantung}\\n\")\n",
    "        if (suhuTubuh > 39) and (suhuTubuh < 50): \n",
    "            print(\"Harus segera dirawat\")\n",
    "            if detakJantung > 100:\n",
    "                print(\"Detak jantung terlalu tinggi, butuh pemeriksaan lebih lanjut.\")\n",
    "            else:\n",
    "                print(\"Detak jantung normal, perbanyak istirahat dan minum cairan\")\n",
    "        else:\n",
    "            print(\"Cukup istirahat saja\") \n",
    "            \n",
    "print(\"1. Cek Suhu Tubuh dan Detak Jantung\")\n",
    "print(\"2. Cek Tekanan Darah dan Denyut Nadi\")\n",
    "print(\"3. None\")\n",
    "\n",
    "def tekanandarah():\n",
    "    i = 0\n",
    "    while i < 3 :\n",
    "        nama = input(\"Nama: \")\n",
    "        print(\"Tekanan Darah:\")\n",
    "        sistolik = int(input(\" -Sistolik: \"))\n",
    "        diastolik = int(input(\" -Diastolik: \"))\n",
    "        denyut = int(input(\"Denyut Nadi: \"))\n",
    "        \n",
    "        print(f\"Nama: {nama}\\nTekanan Darah:\\n -Sistolik: {sistolik}\\n -Diastolik: {diastolik}\\nDenyut Nadi: {denyut}\")\n",
    "        if sistolik > 180 or diastolik > 120:\n",
    "            print(\"Anda mengalami krisis hipertensi, segaralah mencari bantuan medis!!\")\n",
    "        else:\n",
    "            if sistolik > 140  or diastolik > 90:\n",
    "                print(\"kosultasikan dengan dokter mengenai hipertensi\")\n",
    "            elif (sistolik >= 120 and sistolik <= 139) or (diastolik >= 80 and diastolik <= 89):\n",
    "                print(\"Anda berada dalam kategori prehipertensi\")\n",
    "            elif sistolik < 120 and diastolik < 80:\n",
    "                print(\"Tekanan darah anda normal\")\n",
    "            if denyut > 100:\n",
    "                print(\"Periksalah kondisi kesehatabn jantung anda\")\n",
    "            elif denyut < 60:\n",
    "                print(\"Periksalah apakah ada gejala lain yang mengiringi bradikardia\")\n",
    "            elif denyut >= 60 and denyut <= 100:\n",
    "                print(\"Denyut nadi anda normal\")\n",
    "        i += 1\n",
    "\n",
    "a = int(input(\"Pilih Salah Satu: \"))\n",
    "match a:\n",
    "    case 1:\n",
    "        suhudetak()\n",
    "    case 2:\n",
    "        tekanandarah()\n",
    "    case 3:\n",
    "        print(\"Masih kosong\")\n",
    "    case _:\n",
    "        print(\"Input tak valid\")\n",
    "\n",
    "input()\n",
    "\n",
    "    "
   ]
  }
 ],
 "metadata": {
  "kernelspec": {
   "display_name": "Python 3",
   "language": "python",
   "name": "python3"
  },
  "language_info": {
   "codemirror_mode": {
    "name": "ipython",
    "version": 3
   },
   "file_extension": ".py",
   "mimetype": "text/x-python",
   "name": "python",
   "nbconvert_exporter": "python",
   "pygments_lexer": "ipython3",
   "version": "3.12.0"
  }
 },
 "nbformat": 4,
 "nbformat_minor": 2
}
