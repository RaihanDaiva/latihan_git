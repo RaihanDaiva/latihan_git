{
 "cells": [
  {
   "cell_type": "code",
   "execution_count": 24,
   "metadata": {},
   "outputs": [
    {
     "name": "stdout",
     "output_type": "stream",
     "text": [
      "Masih diberi ASI\n"
     ]
    }
   ],
   "source": [
    "gender = input(\"Gender(L/P): \")\n",
    "usia = int(input(\"Usia anda: \"))\n",
    "\n",
    "if (usia >= 3) and (usia <= 18):\n",
    "    if gender == \"L\" :\n",
    "        print(\"Minumlah air sebanyak 1.6 liter\")\n",
    "    elif gender == \"P\":\n",
    "        print(\"Minumlah air sebanyak 1.4 liter\")\n",
    "elif (usia >= 18) and (usia <= 64):\n",
    "    if gender == \"L\" :\n",
    "        print(\"Minumlah air sebanyak 2.5 liter\")\n",
    "    elif gender == \"P\":\n",
    "        print(\"Minumlah air sebanyak 2.0 liter\")\n",
    "elif (usia >= 65):\n",
    "    if gender == \"L\" :\n",
    "        print(\"Minumlah air sebanyak 2.0 liter\")\n",
    "    elif gender == \"P\":\n",
    "        print(\"Minumlah air sebanyak 1.8 liter\")\n",
    "else:\n",
    "    print(\"Masih diberi ASI\")\n",
    "        "
   ]
  },
  {
   "cell_type": "code",
   "execution_count": 1,
   "metadata": {},
   "outputs": [
    {
     "name": "stdout",
     "output_type": "stream",
     "text": [
      "Kamu mengetik: exi\n",
      "Keluar dari program...\n"
     ]
    }
   ],
   "source": [
    "while True:\n",
    "    user_input = input(\"Ketik 'exit' untuk keluar: \")\n",
    "    if user_input.lower() == 'exit':\n",
    "        print(\"Keluar dari program...\")\n",
    "        break\n",
    "    else:\n",
    "        print(f\"Kamu mengetik: {user_input}\")\n"
   ]
  },
  {
   "cell_type": "code",
   "execution_count": 3,
   "metadata": {},
   "outputs": [
    {
     "name": "stdout",
     "output_type": "stream",
     "text": [
      "Coba lagi\n"
     ]
    }
   ],
   "source": [
    "while True:\n",
    "    try:\n",
    "        usia = int(input(\"Usia: \"))\n",
    "        gender = int (input(\"Masukkan angka 1 untuk Laki-laki dan angka 0 untuk Perempuann. \\nGender: \"))\n",
    "\n",
    "        if usia >=2 and usia <=18:\n",
    "            if gender == 1:\n",
    "                print(\"Rekomendasi Asupan Air = 1.6 Liter\")\n",
    "            elif gender == 0:\n",
    "                print(\"Rekomendasi Asupan Air = 1.4 Liter\")\n",
    "        elif usia >=18 and usia <=64:\n",
    "            if gender == 1:\n",
    "                print(\"Rekomendasi Asupan Air = 2.5 Liter\")\n",
    "            elif gender == 0:\n",
    "                print(\"Rekomendasi Asupan Air = 2.0 Liter\")\n",
    "        elif usia >=65:\n",
    "            if gender == 1:\n",
    "                print(\"Rekomendasi Asupan Air = 2.0 Liter\")\n",
    "            elif gender == 0:\n",
    "                print(\"Rekomendasi Asupan Air = 1.8 Liter\")\n",
    "        elif usia <2:\n",
    "            if gender ==1:\n",
    "                print(\"Masih Diberi ASI\")\n",
    "            elif gender ==0:\n",
    "                print(\"Masih Diberi ASI\")\n",
    "    except ValueError:\n",
    "        print(\"Coba lagi\")\n",
    "        break"
   ]
  }
 ],
 "metadata": {
  "kernelspec": {
   "display_name": "Python 3",
   "language": "python",
   "name": "python3"
  },
  "language_info": {
   "codemirror_mode": {
    "name": "ipython",
    "version": 3
   },
   "file_extension": ".py",
   "mimetype": "text/x-python",
   "name": "python",
   "nbconvert_exporter": "python",
   "pygments_lexer": "ipython3",
   "version": "3.12.0"
  }
 },
 "nbformat": 4,
 "nbformat_minor": 2
}
